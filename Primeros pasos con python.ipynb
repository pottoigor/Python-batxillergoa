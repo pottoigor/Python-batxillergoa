{
 "cells": [
  {
   "cell_type": "markdown",
   "metadata": {},
   "source": [
    "# PYTHON CON JUPYTER: PRIMEROS PASOS"
   ]
  },
  {
   "cell_type": "markdown",
   "metadata": {},
   "source": [
    "## Crea tus primeros programas Python con Jupyter\n",
    "### TAREA 1: Hola mundo\n",
    "* Inserta a continuación una celda nueva de Jupyter, selecciona la categoría Code y escribe:  \n",
    "```python\n",
    "print('Hola mundo')\n",
    "```\n",
    "* Ejecuta el código de la celda y observa el resultado."
   ]
  },
  {
   "cell_type": "markdown",
   "metadata": {},
   "source": [
    "### TAREA 2: Operaciones\n",
    "* Escribe el código de las figuras 48 y 49 de la página 173 (emplea una celda de Jupyter diferente para cada uno de los ejercicios) y observa el resultado\n"
   ]
  },
  {
   "cell_type": "markdown",
   "metadata": {},
   "source": [
    "## Guía de estilo para el código Python: PEP8 \n",
    "\n",
    "¿Qué prefieres leer un libro con márgenes y párrafos o sin ellos? El contenido es el mismo, pero la forma (estilo) hace que el libro sea fácil de leer.\n",
    "\n",
    "A la hora de escribir un programa debes también cuidar el estilo para que sea claro, uniforme y fácil de leer. Esta no es una tarea fácil y has de aprenderla poco a poco. En el siguiente enlace se vincula una guía de estilo estándar en Python en la que podrás consultar las dudas que se te planteen. Échale un vistazo y tenla siempre presente.\n",
    "\n",
    "[Descargar guia de estilo: PEP8](http://recursospython.com/pep8es.pdf)"
   ]
  },
  {
   "cell_type": "markdown",
   "metadata": {},
   "source": [
    "## Operadores aritméticos: de números reales y enteros.\n",
    "    \n",
    "| Operador |   Descripción   |       Ejemplo       |\n",
    "|:--------:|:---------------:|:-------------------:|\n",
    "|     +    |       Suma      |    r=3+2 # r es 5   |\n",
    "|     -    |      Resta      |   r=4-7 # r es -3   |\n",
    "|     -    |     Negación    |    r=-7 # r es -7   |\n",
    "|     *    |  Multiplicación |   r=2*6 # r es 12   |\n",
    "|    **    |    Exponente    |   r=2**6 # r es 64  |\n",
    "|     /    |     División    | r=3.5/2 # r es 1.75 |\n",
    "|    //    | División Entera |  r=3.5//2 r es 1.0  |\n",
    "|     %    |      Módulo     |    r=7%2 # r es 1   |\n",
    "    "
   ]
  },
  {
   "cell_type": "markdown",
   "metadata": {},
   "source": [
    "## Operadores relacionales: comparan dos expresiones y devuelven un bool\n",
    "| Operador |         Descripción        |       Ejemplo       |\n",
    "|:--------:|:--------------------------:|:-------------------:|\n",
    "|    ==    |     ¿Son iguales a y b?    | r=5==3 # r es False |\n",
    "|    !=    |    ¿Son distintos a y b?   |  r=5!=3 # r es True |\n",
    "|     <    |     ¿Es a menor que b?     |  r=5<3 # r es False |\n",
    "|     >    |     ¿Es a mayor que b?     |  r=5>3 3 r es True  |\n",
    "|    <=    | ¿Es a menor o igual que b? |  r=5<=5 # r es True |\n",
    "|    >=    | ¿Es a mayor o igual que b? |  r=5>=3 # r es True |\n"
   ]
  },
  {
   "cell_type": "markdown",
   "metadata": {},
   "source": [
    "## Operadores lógicos: Devuelven un bool.\n",
    "| Operador |    Descripción    |            Ejemplo            |\n",
    "|:--------:|:-----------------:|:-----------------------------:|\n",
    "|    and   | ¿se cumple a y b? | r=True and False # r es False |\n",
    "|    or    | ¿se cumple a o b? |   r=True o False # r es True  |\n",
    "|    not   |        No a       |     r=not True #r es False    |"
   ]
  },
  {
   "cell_type": "markdown",
   "metadata": {},
   "source": [
    "## Orden de las operaciones\n",
    "Para llegar al resultado correcto, las operaciones han de realizarse en el orden que se indica:\n",
    "1. **P: Paréntesis**  \n",
    "2. **E: Exponentes (potencias, raices cuadradas...)**  \n",
    "3. **MD: Multiplicaciones y Divisiones (de izquierda a derecha)**  \n",
    "4. **SR: Sumans y Restas (de izquierda a derecha)**\n"
   ]
  },
  {
   "cell_type": "markdown",
   "metadata": {},
   "source": [
    "**EJEMPLOS:**¿Como calcularías?\n",
    "* **2 + 5 × 2 **  \n",
    "Primero la multiplicación y luego la suma:\n",
    "Primero 5 × 2 = 10, y luego 2 + 10 = 12\n",
    "  \n",
    "  \n",
    "* **(2 + 3) × 2 **\n",
    "Primero los paréntesis:\n",
    "Primero (2 + 3) = 5, y luego 5 × 2 = 10  \n",
    "  \n",
    "  \n",
    "* **12 / 2 × 3 / 2**\n",
    "Como la multiplicacion y la división están en el mismo nivel, simplemente comenzamos a operar de izquierda a derecha:\n",
    "Primero 12 / 2 =6, después 6 × 3 = 18, y luego 18 / 2 = 9"
   ]
  },
  {
   "cell_type": "code",
   "execution_count": 1,
   "metadata": {},
   "outputs": [
    {
     "name": "stdout",
     "output_type": "stream",
     "text": [
      "12\n",
      "10\n",
      "9.0\n"
     ]
    }
   ],
   "source": [
    "print(2 + 5 * 2)\n",
    "print((2 + 3) *2)\n",
    "print(12 / 2 * 3 / 2)"
   ]
  },
  {
   "cell_type": "markdown",
   "metadata": {},
   "source": [
    "### TAREA 3: ORDEN DE LAS OPERACIONES\n",
    "\n",
    "Entra en el enlace que se indica y contesta a las 10 preguntas propuestas. Primero haz las operaciones mentalmente y después escribe en una celda nueva de Python el código para comprobar el resultado. Utiliza el comando  ````print()````  en cada operación para visualizar todos los resultados y no únicamente el último.\n",
    "\n",
    "[Ir a las preguntas](http://www.mathopolis.com/questions/q.php?id=297&site=1&ref=/operation-order-pemdas.html&qs=297_1566_1572_298_1568_381_1570_3854_3855_383)\n"
   ]
  },
  {
   "cell_type": "code",
   "execution_count": 28,
   "metadata": {
    "collapsed": true
   },
   "outputs": [],
   "source": [
    "from math import *"
   ]
  }
 ],
 "metadata": {
  "kernelspec": {
   "display_name": "Python 3",
   "language": "python",
   "name": "python3"
  },
  "language_info": {
   "codemirror_mode": {
    "name": "ipython",
    "version": 3
   },
   "file_extension": ".py",
   "mimetype": "text/x-python",
   "name": "python",
   "nbconvert_exporter": "python",
   "pygments_lexer": "ipython3",
   "version": "3.6.2"
  }
 },
 "nbformat": 4,
 "nbformat_minor": 2
}
